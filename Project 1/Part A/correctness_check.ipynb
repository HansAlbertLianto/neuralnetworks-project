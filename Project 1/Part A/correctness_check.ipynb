{
 "cells": [
  {
   "cell_type": "code",
   "execution_count": 1,
   "metadata": {},
   "outputs": [],
   "source": [
    "import numpy as np"
   ]
  },
  {
   "cell_type": "code",
   "execution_count": 4,
   "metadata": {},
   "outputs": [],
   "source": [
    "W1 = np.array([[-1.64032146e-01, -2.19476502e-02,  4.02341709e-02,  2.37428352e-01,\n",
    "   4.38090898e-02, -5.87502262e-03,  2.11068869e-01, -2.74141103e-01,\n",
    "  -5.54082811e-01,  6.34829476e-02],\n",
    " [ 1.39475018e-01,  3.78732473e-01, -3.04623157e-01, -7.15960026e-01,\n",
    "   5.59773266e-01, -4.78483826e-01, -2.10875064e-01,  4.62680012e-01,\n",
    "   8.01127553e-01,  3.01761210e-01],\n",
    " [-3.89280707e-01, -2.83407569e-01, -2.02788293e-01,  8.68662596e-02,\n",
    "  -8.77485648e-02,  1.72570586e-01, -1.71251670e-02,  2.46920437e-01,\n",
    "  -2.48142451e-01, -4.38268483e-02],\n",
    " [ 2.35521957e-01,  2.51903325e-01, -2.89313018e-01, -3.28712970e-01,\n",
    "   3.72700483e-01,  1.87197737e-02,  1.49076656e-01,  1.36917144e-01,\n",
    "   2.60064423e-01,  1.49507195e-01],\n",
    " [-3.67851555e-01,  2.23952800e-01,  8.23523477e-02, -6.46082014e-02,\n",
    "  -1.86390102e-01, -4.42188717e-02, -1.36557803e-01, 1.15466133e-01,\n",
    "  -3.67845923e-01, -2.70167708e-01],\n",
    " [ 1.06364097e-02, -1.28468126e-01,  1.48247361e-01, -1.40149936e-01,\n",
    "   2.08851218e-01, -2.20170780e-03,  4.42843512e-02, -1.01698413e-01,\n",
    "   2.82480896e-01, -2.85903335e-01],\n",
    " [ 8.17814618e-02, -4.14866090e-01, -2.63682961e-01, -1.67033955e-01,\n",
    "  -3.30975682e-01,  6.70059085e-01,  1.39008150e-01, -8.63025486e-02,\n",
    "  -5.15734494e-01,  2.80267838e-03],\n",
    " [-3.38968299e-02, -3.71156901e-01,  2.22872719e-01, 1.24968874e+00,\n",
    "  -5.75567603e-01,  3.99501473e-01, -6.04061456e-03, -1.31536350e-01,\n",
    "  -8.90785635e-01, -5.58014393e-01],\n",
    " [-1.73749067e-02,  5.41568398e-02,  2.19182417e-01, -3.02488774e-01,\n",
    "   2.93599635e-01,  4.51129861e-02, -2.47483566e-01, -2.01375157e-01,\n",
    "   3.07999611e-01,  7.01892450e-02],\n",
    " [ 1.19925685e-01, -4.76431966e-01,  3.29357117e-01, 7.73856640e-01,\n",
    "  -1.12549290e-01,  1.04684499e-03, -1.70025811e-01, 1.21237785e-01,\n",
    "  -4.96368527e-01, -4.37113613e-01],\n",
    " [-3.60087082e-02,  8.35918486e-02, -1.34655699e-01, 1.56343013e-01,\n",
    "   3.70314389e-01, -3.43838446e-02, -3.10592741e-01, -7.38898590e-02,\n",
    "   3.11348736e-01, -3.69507149e-02],\n",
    " [-1.15979619e-01, -1.16777703e-01, -1.03370689e-01, -3.67098689e-01,\n",
    "   1.01367831e-01,  3.42711151e-01,  4.21925262e-02, 6.39945967e-03,\n",
    "   2.67696083e-01,  8.42602924e-02],\n",
    " [ 6.56590164e-02, -1.85675189e-01, -2.93835789e-01, 2.88938314e-01,\n",
    "   2.28953794e-01, -2.10898191e-01,  1.00048311e-01, 2.07846463e-02,\n",
    "   2.52521992e-01,  2.83528537e-01],\n",
    " [-9.24778059e-02, -6.63380697e-02, -5.72566837e-02, 1.01853661e-01,\n",
    "  -1.57741949e-01,  2.72684485e-01,  1.09791763e-01, -2.07019433e-01,\n",
    "  -2.37299964e-01, -1.38068289e-01],\n",
    " [ 2.34863862e-01, -1.35774547e-02, -1.28785834e-01, -6.61890814e-03,\n",
    "   7.26902857e-02,  3.47009152e-01, -2.05125585e-01, 7.90712088e-02,\n",
    "  -5.56730479e-02,  3.15401470e-03],\n",
    " [ 2.67858088e-01,  5.49452985e-03, -1.76716238e-01, 3.36003751e-02,\n",
    "  -1.19154252e-01, -2.11226881e-01, -1.08219579e-01, -3.98351431e-01,\n",
    "  -3.37601423e-01,  3.22057068e-01],\n",
    " [-3.11318219e-01, -2.27534398e-02,  4.01981294e-01, 1.69585824e-01,\n",
    "   2.45770052e-01, -1.01697236e-01,  4.05032873e-01, -3.49144042e-02,\n",
    "   4.44407500e-02,  1.26500472e-01],\n",
    " [ 1.18388504e-01,  5.09172916e-01, -3.22680548e-02, 3.03351711e-02,\n",
    "  -1.05745293e-01, -1.75007105e-01,  2.60254383e-01, -7.77109787e-02,\n",
    "   6.19424284e-01,  2.49197766e-01],\n",
    " [-2.05999091e-02,  9.29040536e-02, -8.33809674e-02, 3.90555188e-02,\n",
    "  -9.01637077e-02,  1.65067747e-01,  4.10440952e-01, 1.82728916e-02,\n",
    "   3.38192433e-01,  5.79965830e-01],\n",
    " [-5.34450486e-02, -1.49128944e-01,  4.89762761e-02, 1.79833993e-02,\n",
    "   2.29131840e-02,  4.24919963e-01, -2.89267022e-02, 4.27642941e-01,\n",
    "  -4.23789322e-01,  4.99890037e-02],\n",
    " [-2.79499263e-01,  5.64268708e-01, -1.78195208e-01, 6.32160604e-02,\n",
    "   8.53372142e-02,  1.97558373e-01,  2.63276160e-01, 1.16467141e-01,\n",
    "   6.92960024e-02,  3.24057221e-01]])"
   ]
  },
  {
   "cell_type": "code",
   "execution_count": 5,
   "metadata": {},
   "outputs": [],
   "source": [
    "b1 = np.array([ 0,          0.33527243,  0.04048303, -0.52279204,  0.3280183,   0.0929268,\n",
    " -0.01057657,  0.35269955,  0.64380884,  0.10591717])"
   ]
  },
  {
   "cell_type": "code",
   "execution_count": 6,
   "metadata": {},
   "outputs": [],
   "source": [
    "W2 = np.array([[-0.43497434, -0.04853474,  0.01081497],\n",
    " [ 0.79516476,  0.09700626, -0.7385896 ],\n",
    " [-0.26510113, -0.10780766,  0.18190487],\n",
    " [-1.5312473,   0.4501534,   0.8408509 ],\n",
    " [ 1.0616385,   0.05800115, -0.18407317],\n",
    " [-0.5168773,   0.52809983,  0.7165072 ],\n",
    " [-0.2646703,   0.41171888, -0.44465637],\n",
    " [ 0.33890307, -0.6834664,   0.31604746],\n",
    " [ 1.4501307,  -0.78201395, -0.95682734],\n",
    " [ 0.40393078,  0.12707424, -0.6948714 ]])"
   ]
  },
  {
   "cell_type": "code",
   "execution_count": 7,
   "metadata": {},
   "outputs": [],
   "source": [
    "b2 = np.array([ 0.40000466, -0.11383667, -0.2861667 ])"
   ]
  },
  {
   "cell_type": "code",
   "execution_count": 8,
   "metadata": {},
   "outputs": [],
   "source": [
    "x = np.array([0.259259, 0.000000, 0.000000, 0.000000, 0.000000, 0.0, 0.0, 0.813333, 0.044118, 0.472527, 0.047337, 0.344633, 0.110092, 0.034483, 0.111111, 0.0, 0.472441, 0.587156, 0.403670, 0.271375, 1.0])"
   ]
  },
  {
   "cell_type": "code",
   "execution_count": 19,
   "metadata": {},
   "outputs": [
    {
     "name": "stdout",
     "output_type": "stream",
     "text": [
      "[-0.40561946  0.59396021  0.27925523  1.00476514  0.02050782  0.7887411\n",
      "  0.70509174  0.4034615   0.15062313  0.29698597]\n",
      "[0.         0.59396021 0.27925523 1.00476514 0.02050782 0.7887411\n",
      " 0.70509174 0.4034615  0.15062313 0.29698597]\n"
     ]
    }
   ],
   "source": [
    "U1 = np.matmul(x, W1) + b1\n",
    "print(U1)\n",
    "H1 = np.maximum(U1, 0)\n",
    "print(H1)"
   ]
  },
  {
   "cell_type": "code",
   "execution_count": 21,
   "metadata": {},
   "outputs": [
    {
     "name": "stdout",
     "output_type": "stream",
     "text": [
      "[-0.83768188  0.71819438  0.19566183]\n"
     ]
    }
   ],
   "source": [
    "logits = np.matmul(H1, W2) + b2\n",
    "print(logits)"
   ]
  },
  {
   "cell_type": "code",
   "execution_count": 27,
   "metadata": {},
   "outputs": [
    {
     "name": "stdout",
     "output_type": "stream",
     "text": [
      "2.892547764504933e-05\n"
     ]
    }
   ],
   "source": [
    "W_sum = np.sum(np.multiply(W1, W1)) + np.sum(np.multiply(W2, W2))\n",
    "print(W_sum * 10 ** -6)"
   ]
  },
  {
   "cell_type": "code",
   "execution_count": 29,
   "metadata": {},
   "outputs": [
    {
     "data": {
      "text/plain": [
       "[2.5, 3.5, 4.5]"
      ]
     },
     "execution_count": 29,
     "metadata": {},
     "output_type": "execute_result"
    }
   ],
   "source": [
    "np.average(np.array([[1, 2, 3], [4, 5, 6]]), axis=0).tolist()"
   ]
  },
  {
   "cell_type": "code",
   "execution_count": 42,
   "metadata": {},
   "outputs": [
    {
     "data": {
      "image/png": "[encoded data removed]",
      "text/plain": [
       "<Figure size 432x288 with 1 Axes>"
      ]
     },
     "metadata": {
      "needs_background": "light"
     },
     "output_type": "display_data"
    }
   ],
   "source": [
    "import matplotlib.pyplot as plt\n",
    "\n",
    "plt.plot([1, 2, 3], [4, 5, 6], 'xb-')\n",
    "plt.title('Test title')\n",
    "plt.savefig('test.png')\n",
    "plt.show()"
   ]
  },
  {
   "cell_type": "code",
   "execution_count": 40,
   "metadata": {},
   "outputs": [
    {
     "name": "stdout",
     "output_type": "stream",
     "text": [
      "[[1, 2, 3], [4, 5, 6]]\n"
     ]
    }
   ],
   "source": []
  },
  {
   "cell_type": "code",
   "execution_count": null,
   "metadata": {},
   "outputs": [],
   "source": []
  }
 ],
 "metadata": {
  "kernelspec": {
   "display_name": "Python 3",
   "language": "python",
   "name": "python3"
  },
  "language_info": {
   "codemirror_mode": {
    "name": "ipython",
    "version": 3
   },
   "file_extension": ".py",
   "mimetype": "text/x-python",
   "name": "python",
   "nbconvert_exporter": "python",
   "pygments_lexer": "ipython3",
   "version": "3.7.3"
  }
 },
 "nbformat": 4,
 "nbformat_minor": 2
}
